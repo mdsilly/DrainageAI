{
 "cells": [
  {
   "cell_type": "markdown",
   "metadata": {},
   "source": [
    "# DrainageAI Demo - Google Colab Integration with BYOL\n",
    "\n",
    "This notebook demonstrates the DrainageAI workflow using Google Colab's GPU acceleration, including the new BYOL approach for few-shot learning and SAR data integration."
   ]
  },
  {
   "cell_type": "markdown",
   "metadata": {},
   "source": [
    "## Step 1: Check GPU Availability"
   ]
  },
  {
   "cell_type": "code",
   "execution_count": null,
   "metadata": {},
   "outputs": [],
   "source": [
    "import torch\n",
    "\n",
    "print(f\"GPU available: {torch.cuda.is_available()}\")\n",
    "\n",
    "if torch.cuda.is_available():\n",
    "    print(f\"GPU name: {torch.cuda.get_device_name(0)}\")\n",
    "else:\n",
    "    print(\"WARNING: No GPU detected. Processing will be slow.\")"
   ]
  },
  {
   "cell_type": "markdown",
   "metadata": {},
   "source": [
    "## Step 2: Install Dependencies"
   ]
  },
  {
   "cell_type": "code",
   "execution_count": null,
   "metadata": {},
   "outputs": [],
   "source": [
    "!pip install rasterio geopandas scikit-image matplotlib pytorch-lightning torch-geometric"
   ]
  },
  {
   "cell_type": "markdown",
   "metadata": {},
   "source": [
    "## Step 3: Clone the DrainageAI Repository"
   ]
  },
  {
   "cell_type": "code",
   "execution_count": null,
   "metadata": {},
   "outputs": [],
   "source": [
    "# Clone the repository\n",
    "!git clone https://github.com/yourusername/DrainageAI.git\n",
    "\n",
    "%cd DrainageAI"
   ]
  },
  {
   "cell_type": "markdown",
   "metadata": {},
   "source": [
    "## Step 4: Upload Test Imagery"
   ]
  },
  {
   "cell_type": "code",
   "execution_count": null,
   "metadata": {},
   "outputs": [],
   "source": [
    "from google.colab import files\n",
    "\n",
    "print(\"Please upload your multispectral imagery file (GeoTIFF format):\")\n",
    "uploaded = files.upload()\n",
    "\n",
    "# Get the filename of the uploaded file\n",
    "imagery_filename = list(uploaded.keys())[0]\n",
    "print(f\"Uploaded file: {imagery_filename}\")"
   ]
  },
  {
   "cell_type": "markdown",
   "metadata": {},
   "source": [
    "## Step 5: Create Output Directory"
   ]
  },
  {
   "cell_type": "code",
   "execution_count": null,
   "metadata": {},
   "outputs": [],
   "source": [
    "!mkdir -p colab_results"
   ]
  },
  {
   "cell_type": "markdown",
   "metadata": {},
   "source": [
    "## Step 6: Calculate Spectral Indices"
   ]
  },
  {
   "cell_type": "code",
   "execution_count": null,
   "metadata": {},
   "outputs": [],
   "source": [
    "print(\"\\n=== Step 1: Calculate Spectral Indices ===\\n\")\n",
    "\n",
    "!python main.py indices --imagery {imagery_filename} --output colab_results/indices.tif --indices ndvi,ndmi,msavi2"
   ]
  },
  {
   "cell_type": "markdown",
   "metadata": {},
   "source": [
    "## Step 7: Run Drainage Detection"
   ]
  },
  {
   "cell_type": "code",
   "execution_count": null,
   "metadata": {},
   "outputs": [],
   "source": [
    "print(\"\\n=== Step 2: Detect Drainage Pipes ===\\n\")\n",
    "\n",
    "# Choose one of the following model options:\n",
    "\n",
    "# Semi-supervised model (default)\n",
    "!python main.py detect --imagery {imagery_filename} --indices colab_results/indices.tif --output colab_results/drainage_semi.tif --model semi\n",
    "\n",
    "# Uncomment to use BYOL model (new)\n",
    "# !python main.py detect --imagery {imagery_filename} --indices colab_results/indices.tif --output colab_results/drainage_byol.tif --model byol"
   ]
  },
  {
   "cell_type": "markdown",
   "metadata": {},
   "source": [
    "## Step 8: Vectorize Results"
   ]
  },
  {
   "cell_type": "code",
   "execution_count": null,
   "metadata": {},
   "outputs": [],
   "source": [
    "print(\"\\n=== Step 3: Vectorize Results ===\\n\")\n",
    "\n",
    "# Change the input file if you used a different model\n",
    "detection_file = \"colab_results/drainage_semi.tif\"\n",
    "\n",
    "!python main.py vectorize --input {detection_file} --output colab_results/drainage_lines.shp"
   ]
  },
  {
   "cell_type": "markdown",
   "metadata": {},
   "source": [
    "## NEW: BYOL Workflow for Few-Shot Learning\n",
    "\n",
    "This section demonstrates the BYOL (Bootstrap Your Own Latent) approach for scenarios with very few labeled examples."
   ]
  },
  {
   "cell_type": "markdown",
   "metadata": {},
   "source": [
    "### Upload Unlabeled and Labeled Data"
   ]
  },
  {
   "cell_type": "code",
   "execution_count": null,
   "metadata": {},
   "outputs": [],
   "source": [
    "# Create directories for unlabeled and labeled data\n",
    "!mkdir -p data/unlabeled/imagery\n",
    "!mkdir -p data/labeled/imagery\n",
    "!mkdir -p data/labeled/labels\n",
    "\n",
    "# Upload unlabeled imagery (you can upload multiple files)\n",
    "print(\"Please upload unlabeled imagery files (GeoTIFF format):\")\n",
    "uploaded_unlabeled = files.upload()\n",
    "\n",
    "# Save uploaded files to the unlabeled directory\n",
    "for filename in uploaded_unlabeled.keys():\n",
    "    with open(f\"data/unlabeled/imagery/{filename}\", 'wb') as f:\n",
    "        f.write(uploaded_unlabeled[filename])\n",
    "    print(f\"Saved {filename} to data/unlabeled/imagery/\")\n",
    "\n",
    "# Upload labeled imagery (you can upload multiple files)\n",
    "print(\"\\nPlease upload labeled imagery files (GeoTIFF format):\")\n",
    "uploaded_labeled_imagery = files.upload()\n",
    "\n",
    "# Save uploaded files to the labeled imagery directory\n",
    "for filename in uploaded_labeled_imagery.keys():\n",
    "    with open(f\"data/labeled/imagery/{filename}\", 'wb') as f:\n",
    "        f.write(uploaded_labeled_imagery[filename])\n",
    "    print(f\"Saved {filename} to data/labeled/imagery/\")\n",
    "\n",
    "# Upload label masks (you can upload multiple files)\n",
    "print(\"\\nPlease upload label mask files (GeoTIFF format):\")\n",
    "uploaded_labels = files.upload()\n",
    "\n",
    "# Save uploaded files to the labeled labels directory\n",
    "for filename in uploaded_labels.keys():\n",
    "    with open(f\"data/labeled/labels/{filename}\", 'wb') as f:\n",
    "        f.write(uploaded_labels[filename])\n",
    "    print(f\"Saved {filename} to data/labeled/labels/\")"
   ]
  },
  {
   "cell_type": "markdown",
   "metadata": {},
   "source": [
    "### BYOL Pretraining"
   ]
  },
  {
   "cell_type": "code",
   "execution_count": null,
   "metadata": {},
   "outputs": [],
   "source": [
    "print(\"\\n=== BYOL Pretraining ===\\n\")\n",
    "\n",
    "# Run BYOL pretraining\n",
    "!python examples/byol_mvp_workflow.py \\\n",
    "    --optical-dir data/unlabeled/imagery \\\n",
    "    --output-dir colab_results \\\n",
    "    --byol-epochs 20 \\\n",
    "    --inference-only False"
   ]
  },
  {
   "cell_type": "markdown",
   "metadata": {},
   "source": [
    "### BYOL Fine-tuning"
   ]
  },
  {
   "cell_type": "code",
   "execution_count": null,
   "metadata": {},
   "outputs": [],
   "source": [
    "print(\"\\n=== BYOL Fine-tuning ===\\n\")\n",
    "\n",
    "# Run BYOL fine-tuning\n",
    "!python examples/byol_mvp_workflow.py \\\n",
    "    --optical-dir data/labeled/imagery \\\n",
    "    --label-dir data/labeled/labels \\\n",
    "    --output-dir colab_results \\\n",
    "    --model-path colab_results/byol_pretrained.pth \\\n",
    "    --num-labeled 5 \\\n",
    "    --finetune-epochs 10"
   ]
  },
  {
   "cell_type": "markdown",
   "metadata": {},
   "source": [
    "### BYOL Inference"
   ]
  },
  {
   "cell_type": "code",
   "execution_count": null,
   "metadata": {},
   "outputs": [],
   "source": [
    "print(\"\\n=== BYOL Inference ===\\n\")\n",
    "\n",
    "# Run inference with the fine-tuned BYOL model\n",
    "!python examples/byol_mvp_workflow.py \\\n",
    "    --inference-only \\\n",
    "    --model-path colab_results/byol_finetuned.pth \\\n",
    "    --test-image {imagery_filename} \\\n",
    "    --output-dir colab_results"
   ]
  },
  {
   "cell_type": "markdown",
   "metadata": {},
   "source": [
    "## NEW: SAR Data Integration"
   ]
  },
  {
   "cell_type": "markdown",
   "metadata": {},
   "source": [
    "### Upload SAR Imagery"
   ]
  },
  {
   "cell_type": "code",
   "execution_count": null,
   "metadata": {},
   "outputs": [],
   "source": [
    "print(\"Please upload your SAR imagery file (GeoTIFF format):\")\n",
    "uploaded_sar = files.upload()\n",
    "\n",
    "# Get the filename of the uploaded file\n",
    "sar_filename = list(uploaded_sar.keys())[0]\n",
    "print(f\"Uploaded SAR file: {sar_filename}\")"
   ]
  },
  {
   "cell_type": "markdown",
   "metadata": {},
   "source": [
    "### Run SAR Integration Example"
   ]
  },
  {
   "cell_type": "code",
   "execution_count": null,
   "metadata": {},
   "outputs": [],
   "source": [
    "print(\"\\n=== SAR Integration ===\\n\")\n",
    "\n",
    "# Run SAR integration example\n",
    "!python examples/sar_integration_example.py \\\n",
    "    --imagery {imagery_filename} \\\n",
    "    --sar {sar_filename} \\\n",
    "    --output-dir colab_results \\\n",
    "    --visualize"
   ]
  },
  {
   "cell_type": "markdown",
   "metadata": {},
   "source": [
    "## Combining BYOL and SAR for Maximum Performance"
   ]
  },
  {
   "cell_type": "code",
   "execution_count": null,
   "metadata": {},
   "outputs": [],
   "source": [
    "print(\"\\n=== BYOL + SAR Integration ===\\n\")\n",
    "\n",
    "# Run BYOL with SAR data\n",
    "!python examples/byol_mvp_workflow.py \\\n",
    "    --inference-only \\\n",
    "    --model-path colab_results/byol_finetuned.pth \\\n",
    "    --test-image {imagery_filename} \\\n",
    "    --test-sar {sar_filename} \\\n",
    "    --output-dir colab_results"
   ]
  }
 ],
 "metadata": {
  "kernelspec": {
   "display_name": "Python 3",
   "language": "python",
   "name": "python3"
  },
  "language_info": {
   "codemirror_mode": {
    "name": "ipython",
    "version": 3
   },
   "file_extension": ".py",
   "mimetype": "text/x-python",
   "name": "python",
   "nbconvert_exporter": "python",
   "pygments_lexer": "ipython3",
   "version": "3.8.10"
  }
 },
 "nbformat": 4,
 "nbformat_minor": 4
}
