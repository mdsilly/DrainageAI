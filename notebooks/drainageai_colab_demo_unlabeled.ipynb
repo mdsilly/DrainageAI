{
 "cells": [
  {
   "cell_type": "markdown",
   "metadata": {},
   "source": [
    "# DrainageAI Demo - Google Colab Integration with BYOL (Unlabeled Data Focus)\n",
    "\n",
    "This notebook demonstrates the DrainageAI workflow using Google Colab's GPU acceleration, focusing on the BYOL approach with unlabeled data only. It includes support for grayscale (single-channel) images."
   ]
  },
  {
   "cell_type": "markdown",
   "metadata": {},
   "source": [
    "## Step 1: Check GPU Availability"
   ]
  },
  {
   "cell_type": "code",
   "execution_count": null,
   "metadata": {},
   "outputs": [],
   "source": [
    "import torch\n",
    "\n",
    "print(f\"GPU available: {torch.cuda.is_available()}\")\n",
    "\n",
    "if torch.cuda.is_available():\n",
    "    print(f\"GPU name: {torch.cuda.get_device_name(0)}\")\n",
    "else:\n",
    "    print(\"WARNING: No GPU detected. Processing will be slow.\")"
   ]
  },
  {
   "cell_type": "markdown",
   "metadata": {},
   "source": [
    "## Step 2: Install Dependencies"
   ]
  },
  {
   "cell_type": "code",
   "execution_count": null,
   "metadata": {},
   "outputs": [],
   "source": [
    "!pip install rasterio geopandas scikit-image matplotlib pytorch-lightning torch-geometric"
   ]
  },
  {
   "cell_type": "markdown",
   "metadata": {},
   "source": [
    "## Step 3: Clone the DrainageAI Repository"
   ]
  },
  {
   "cell_type": "code",
   "execution_count": null,
   "metadata": {},
   "outputs": [],
   "source": [
    "# Clone the repository\n",
    "!git clone https://github.com/yourusername/DrainageAI.git\n",
    "\n",
    "%cd DrainageAI"
   ]
  },
  {
   "cell_type": "markdown",
   "metadata": {},
   "source": [
    "## Step 4: Upload Test Imagery"
   ]
  },
  {
   "cell_type": "code",
   "execution_count": null,
   "metadata": {},
   "outputs": [],
   "source": [
    "from google.colab import files\n",
    "\n",
    "print(\"Please upload your multispectral imagery file (GeoTIFF format):\")\n",
    "uploaded = files.upload()\n",
    "\n",
    "# Get the filename of the uploaded file\n",
    "imagery_filename = list(uploaded.keys())[0]\n",
    "print(f\"Uploaded file: {imagery_filename}\")"
   ]
  },
  {
   "cell_type": "markdown",
   "metadata": {},
   "source": [
    "## Step 5: Create Output Directory"
   ]
  },
  {
   "cell_type": "code",
   "execution_count": null,
   "metadata": {},
   "outputs": [],
   "source": [
    "!mkdir -p colab_results"
   ]
  },
  {
   "cell_type": "markdown",
   "metadata": {},
   "source": [
    "## Step 6: Check Image Channels"
   ]
  },
  {
   "cell_type": "code",
   "execution_count": null,
   "metadata": {},
   "outputs": [],
   "source": [
    "import rasterio\n",
    "\n",
    "# Check the number of channels in the uploaded image\n",
    "with rasterio.open(imagery_filename) as src:\n",
    "    num_channels = src.count\n",
    "    print(f\"Image has {num_channels} channel(s)\")\n",
    "    \n",
    "# Determine which model to use based on the number of channels\n",
    "if num_channels < 3:\n",
    "    print(\"This is a grayscale or 2-channel image. We'll use the grayscale-compatible model.\")\n",
    "    recommended_model = \"grayscale-byol\"\n",
    "else:\n",
    "    print(\"This is a multi-channel image. We'll use the standard model.\")\n",
    "    recommended_model = \"byol\""
   ]
  },
  {
   "cell_type": "markdown",
   "metadata": {},
   "source": [
    "## Step 7: Calculate Spectral Indices"
   ]
  },
  {
   "cell_type": "code",
   "execution_count": null,
   "metadata": {},
   "outputs": [],
   "source": [
    "print(\"\\n=== Step 1: Calculate Spectral Indices ===\\n\")\n",
    "\n",
    "!python main.py indices --imagery {imagery_filename} --output colab_results/indices.tif --indices ndvi,ndmi,msavi2"
   ]
  },
  {
   "cell_type": "markdown",
   "metadata": {},
   "source": [
    "## Step 8: Run Drainage Detection with Grayscale Support"
   ]
  },
  {
   "cell_type": "code",
   "execution_count": null,
   "metadata": {},
   "outputs": [],
   "source": [
    "print(\"\\n=== Step 2: Detect Drainage Pipes ===\\n\")\n",
    "\n",
    "# Choose one of the following model options based on the image type:\n",
    "\n",
    "# For grayscale images (1 channel) or 2-channel images\n",
    "if num_channels < 3:\n",
    "    print(\"Using grayscale-compatible BYOL model...\")\n",
    "    !python main.py detect --imagery {imagery_filename} --indices colab_results/indices.tif --output colab_results/drainage_grayscale_byol.tif --model grayscale-byol\n",
    "# For RGB images (3+ channels)\n",
    "else:\n",
    "    print(\"Using standard BYOL model...\")\n",
    "    !python main.py detect --imagery {imagery_filename} --indices colab_results/indices.tif --output colab_results/drainage_byol.tif --model byol"
   ]
  },
  {
   "cell_type": "markdown",
   "metadata": {},
   "source": [
    "## Step 9: Vectorize Results"
   ]
  },
  {
   "cell_type": "code",
   "execution_count": null,
   "metadata": {},
   "outputs": [],
   "source": [
    "print(\"\\n=== Step 3: Vectorize Results ===\\n\")\n",
    "\n",
    "# Determine which detection result to use based on the model used\n",
    "if num_channels < 3:\n",
    "    detection_file = \"colab_results/drainage_grayscale_byol.tif\"\n",
    "else:\n",
    "    detection_file = \"colab_results/drainage_byol.tif\"\n",
    "\n",
    "!python main.py vectorize --input {detection_file} --output colab_results/drainage_lines.shp"
   ]
  },
  {
   "cell_type": "markdown",
   "metadata": {},
   "source": [
    "## BYOL Workflow for Unlabeled Data\n",
    "\n",
    "This section demonstrates the BYOL (Bootstrap Your Own Latent) approach using only unlabeled data for pretraining. It supports both RGB and grayscale images."
   ]
  },
  {
   "cell_type": "markdown",
   "metadata": {},
   "source": [
    "### Upload Unlabeled Data"
   ]
  },
  {
   "cell_type": "code",
   "execution_count": null,
   "metadata": {},
   "outputs": [],
   "source": [
    "# Create directories for unlabeled data\n",
    "!mkdir -p data/unlabeled/imagery\n",
    "\n",
    "# Upload unlabeled imagery (you can upload multiple files)\n",
    "print(\"Please upload unlabeled imagery files (GeoTIFF format):\")\n",
    "uploaded_unlabeled = files.upload()\n",
    "\n",
    "# Save uploaded files to the unlabeled directory\n",
    "for filename in uploaded_unlabeled.keys():\n",
    "    with open(f\"data/unlabeled/imagery/{filename}\", 'wb') as f:\n",
    "        f.write(uploaded_unlabeled[filename])\n",
    "    print(f\"Saved {filename} to data/unlabeled/imagery/\")"
   ]
  },
  {
   "cell_type": "markdown",
   "metadata": {},
   "source": [
    "### Check Image Channels and Determine Approach"
   ]
  },
  {
   "cell_type": "code",
   "execution_count": null,
   "metadata": {},
   "outputs": [],
   "source": [
    "import rasterio\n",
    "import numpy as np\n",
    "import os\n",
    "\n",
    "# Check all images in the unlabeled directory\n",
    "has_grayscale = False\n",
    "for filename in os.listdir('data/unlabeled/imagery'):\n",
    "    if filename.endswith(('.tif', '.tiff')):\n",
    "        input_path = os.path.join('data/unlabeled/imagery', filename)\n",
    "        \n",
    "        # Check number of channels\n",
    "        with rasterio.open(input_path) as src:\n",
    "            num_channels = src.count\n",
    "            print(f\"Image {filename} has {num_channels} channel(s)\")\n",
    "            \n",
    "            if num_channels < 3:\n",
    "                has_grayscale = True\n",
    "\n",
    "# Determine which approach to use\n",
    "if has_grayscale:\n",
    "    print(\"\\nDetected grayscale images. We have two options:\")\n",
    "    print(\"1. Use the grayscale-compatible BYOL model directly (recommended)\")\n",
    "    print(\"2. Convert grayscale images to RGB format\")\n",
    "    approach = input(\"Which approach do you want to use? (1/2): \")\n",
    "else:\n",
    "    print(\"\\nAll images have 3 or more channels. Using standard BYOL model.\")\n",
    "    approach = \"0\"  # Not using grayscale approach"
   ]
  },
  {
   "cell_type": "markdown",
   "metadata": {},
   "source": [
    "### Option 1: Use Grayscale-Compatible BYOL Model"
   ]
  },
  {
   "cell_type": "code",
   "execution_count": null,
   "metadata": {},
   "outputs": [],
   "source": [
    "if approach == \"1\" or not has_grayscale:\n",
    "    print(\"\\n=== Using Grayscale-Compatible BYOL Model ===\\n\")\n",
    "    \n",
    "    # Run the grayscale BYOL example\n",
    "    !python examples/grayscale_byol_example.py \\\n",
    "        --optical-dir data/unlabeled/imagery \\\n",
    "        --output-dir colab_results \\\n",
    "        --epochs 20 \\\n",
    "        --test-image {imagery_filename}"
   ]
  },
  {
   "cell_type": "markdown",
   "metadata": {},
   "source": [
    "### Option 2: Convert Grayscale to RGB"
   ]
  },
  {
   "cell_type": "code",
   "execution_count": null,
   "metadata": {},
   "outputs": [],
   "source": [
    "if approach == \"2\":\n",
    "    print(\"\\n=== Converting Grayscale Images to RGB ===\\n\")\n",
    "    \n",
    "    # Create directory for RGB images\n",
    "    !mkdir -p data/unlabeled_rgb\n",
    "    \n",
    "    # Function to convert grayscale to RGB\n",
    "    def convert_grayscale_to_rgb(input_path, output_path):\n",
    "        with rasterio.open(input_path) as src:\n",
    "            # Read the data\n",
    "            data = src.read()\n",
    "            profile = src.profile.copy()\n",
    "            \n",
    "            # Check if it's already multi-channel\n",
    "            if data.shape[0] >= 3:\n",
    "                print(f\"Image {input_path} already has {data.shape[0]} channels, skipping.\")\n",
    "                return False\n",
    "            \n",
    "            # Create 3-channel image by duplicating the grayscale channel\n",
    "            if data.shape[0] == 1:\n",
    "                rgb_data = np.repeat(data, 3, axis=0)\n",
    "            else:\n",
    "                # If it has 2 channels, add a third one\n",
    "                zeros = np.zeros_like(data[0:1])\n",
    "                rgb_data = np.concatenate([data, zeros], axis=0)\n",
    "            \n",
    "            # Update profile for RGB output\n",
    "            profile.update(count=3)\n",
    "            \n",
    "            # Write the RGB image\n",
    "            with rasterio.open(output_path, 'w', **profile) as dst:\n",
    "                dst.write(rgb_data)\n",
    "            \n",
    "            return True\n",
    "    \n",
    "    # Convert all grayscale images\n",
    "    for filename in os.listdir('data/unlabeled/imagery'):\n",
    "        if filename.endswith(('.tif', '.tiff')):\n",
    "            input_path = os.path.join('data/unlabeled/imagery', filename)\n",
    "            output_path = os.path.join('data/unlabeled_rgb', filename)\n",
    "            \n",
    "            # Check number of channels\n",
    "            with rasterio.open(input_path) as src:\n",
    "                num_channels = src.count\n",
    "                \n",
    "                if num_channels < 3:\n",
    "                    print(f\"Converting {filename} to RGB format...\")\n",
    "                    convert_grayscale_to_rgb(input_path, output_path)\n",
    "                else:\n",
    "                    print(f\"Copying {filename} (already has {num_channels} channels)...\")\n",
    "                    # Copy the file as is\n",
    "                    with open(input_path, 'rb') as src_file, open(output_path, 'wb') as dst_file:\n",
    "                        dst_file.write(src_file.read())\n",
    "    \n",
    "    print(\"\\n=== BYOL Pretraining with Converted RGB Images ===\\n\")\n",
    "    \n",
    "    # Run BYOL pretraining with converted RGB images\n",
    "    !python examples/byol_mvp_workflow.py \\\n",
    "        --optical-dir data/unlabeled_rgb \\\n",
    "        --output-dir colab_results \\\n",
    "        --byol-epochs 20"
   ]
  },
  {
   "cell_type": "markdown",
   "metadata": {},
   "source": [
    "### BYOL Inference with Pretrained Model"
   ]
  },
  {
   "cell_type": "code",
   "execution_count": null,
   "metadata": {},
   "outputs": [],
   "source": [
    "print(\"\\n=== BYOL Inference with Pretrained Model ===\\n\")\n",
    "\n",
    "# Run inference with the appropriate model\n",
    "if approach == \"1\" or not has_grayscale:\n",
    "    # Using grayscale-compatible model\n",
    "    !python main.py detect \\\n",
    "        --imagery {imagery_filename} \\\n",
    "        --output colab_results/detection_result.tif \\\n",
    "        --model grayscale-byol \\\n",
    "        --weights colab_results/grayscale_byol_model.pth\n",
    "elif approach == \"2\":\n",
    "    # Using standard model with converted RGB images\n",
    "    !python main.py detect \\\n",
    "        --imagery {imagery_filename} \\\n",
    "        --output colab_results/detection_result.tif \\\n",
    "        --model byol \\\n",
    "        --weights colab_results/byol_pretrained.pth"
   ]
  }
 ],
 "metadata": {
  "kernelspec": {
   "display_name": "Python 3",
   "language": "python",
   "name": "python3"
  },
  "language_info": {
   "codemirror_mode": {
    "name": "ipython",
    "version": 3
   },
   "file_extension": ".py",
   "mimetype": "text/x-python",
   "name": "python",
   "nbconvert_exporter": "python",
   "pygments_lexer": "ipython3",
   "version": "3.8.10"
  }
 },
 "nbformat": 4,
 "nbformat_minor": 4
}
