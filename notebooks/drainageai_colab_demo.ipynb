{
 "cells": [
  {
   "cell_type": "markdown",
   "metadata": {},
   "source": [
    "# DrainageAI Demo - Google Colab Integration\n",
    "\n",
    "This notebook demonstrates the DrainageAI super-MVP workflow using Google Colab's GPU acceleration. It allows you to detect drainage pipes in agricultural fields using satellite imagery and spectral indices.\n",
    "\n",
    "## Workflow Overview\n",
    "1. Check GPU availability\n",
    "2. Install dependencies\n",
    "3. Clone the DrainageAI repository\n",
    "4. Upload test imagery\n",
    "5. Calculate spectral indices\n",
    "6. Detect drainage pipes\n",
    "7. Vectorize results\n",
    "8. Visualize and download results"
   ]
  },
  {
   "cell_type": "markdown",
   "metadata": {},
   "source": [
    "## Step 1: Check GPU Availability\n",
    "\n",
    "First, let's check if a GPU is available for acceleration."
   ]
  },
  {
   "cell_type": "code",
   "execution_count": null,
   "metadata": {},
   "outputs": [],
   "source": [
    "import torch\n",
    "print(f\"GPU available: {torch.cuda.is_available()}\")\n",
    "if torch.cuda.is_available():\n",
    "    print(f\"GPU name: {torch.cuda.get_device_name(0)}\")\n",
    "else:\n",
    "    print(\"WARNING: No GPU detected. Processing will be slow.\")"
   ]
  },
  {
   "cell_type": "markdown",
   "metadata": {},
   "source": [
    "## Step 2: Install Dependencies\n",
    "\n",
    "Install the required packages for DrainageAI."
   ]
  },
  {
   "cell_type": "code",
   "execution_count": null,
   "metadata": {},
   "outputs": [],
   "source": [
    "!pip install rasterio geopandas scikit-image matplotlib pytorch-lightning torch-geometric"
   ]
  },
  {
   "cell_type": "markdown",
   "metadata": {},
   "source": [
    "## Step 3: Clone the DrainageAI Repository\n",
    "\n",
    "Clone the repository and navigate to its directory."
   ]
  },
  {
   "cell_type": "code",
   "execution_count": null,
   "metadata": {},
   "outputs": [],
   "source": [
    "# Clone the repository\n",
    "!git clone https://github.com/yourusername/DrainageAI.git\n",
    "%cd DrainageAI"
   ]
  },
  {
   "cell_type": "markdown",
   "metadata": {},
   "source": [
    "## Step 4: Upload Test Imagery\n",
    "\n",
    "Upload your multispectral imagery file (GeoTIFF format)."
   ]
  },
  {
   "cell_type": "code",
   "execution_count": null,
   "metadata": {},
   "outputs": [],
   "source": [
    "from google.colab import files\n",
    "print(\"Please upload your multispectral imagery file (GeoTIFF format):\")\n",
    "uploaded = files.upload()\n",
    "\n",
    "# Get the filename of the uploaded file\n",
    "imagery_filename = list(uploaded.keys())[0]\n",
    "print(f\"Uploaded file: {imagery_filename}\")"
   ]
  },
  {
   "cell_type": "markdown",
   "metadata": {},
   "source": [
    "## Step 5: Create Output Directory"
   ]
  },
  {
   "cell_type": "code",
   "execution_count": null,
   "metadata": {},
   "outputs": [],
   "source": [
    "!mkdir -p colab_results"
   ]
  },
  {
   "cell_type": "markdown",
   "metadata": {},
   "source": [
    "## Step 6: Calculate Spectral Indices\n",
    "\n",
    "Calculate NDVI, NDMI, and MSAVI2 from the multispectral imagery."
   ]
  },
  {
   "cell_type": "code",
   "execution_count": null,
   "metadata": {},
   "outputs": [],
   "source": [
    "print(\"\\n=== Step 1: Calculate Spectral Indices ===\\n\")\n",
    "!python main.py indices --imagery {imagery_filename} --output colab_results/indices.tif --indices ndvi,ndmi,msavi2"
   ]
  },
  {
   "cell_type": "markdown",
   "metadata": {},
   "source": [
    "## Step 7: Run Drainage Detection\n",
    "\n",
    "Detect drainage pipes using the semi-supervised model with spectral indices."
   ]
  },
  {
   "cell_type": "code",
   "execution_count": null,
   "metadata": {},
   "outputs": [],
   "source": [
    "print(\"\\n=== Step 2: Detect Drainage Pipes ===\\n\")\n",
    "!python main.py detect --imagery {imagery_filename} --indices colab_results/indices.tif --output colab_results/drainage.tif --model semi"
   ]
  },
  {
   "cell_type": "markdown",
   "metadata": {},
   "source": [
    "## Step 8: Vectorize Results\n",
    "\n",
    "Convert the raster detection results to vector format for GIS analysis."
   ]
  },
  {
   "cell_type": "code",
   "execution_count": null,
   "metadata": {},
   "outputs": [],
   "source": [
    "print(\"\\n=== Step 3: Vectorize Results ===\\n\")\n",
    "!python main.py vectorize --input colab_results/drainage.tif --output colab_results/drainage_lines.shp"
   ]
  },
  {
   "cell_type": "markdown",
   "metadata": {},
   "source": [
    "## Step 9: Visualize Results\n",
    "\n",
    "Create visualizations of the original imagery, spectral indices, and detection results."
   ]
  },
  {
   "cell_type": "code",
   "execution_count": null,
   "metadata": {},
   "outputs": [],
   "source": [
    "import matplotlib.pyplot as plt\n",
    "import rasterio\n",
    "import numpy as np\n",
    "import geopandas as gpd\n",
    "from rasterio.plot import show\n",
    "\n",
    "# Load original imagery\n",
    "with rasterio.open(imagery_filename) as src:\n",
    "    # Create RGB composite (assuming bands are in order)\n",
    "    rgb = np.dstack((src.read(3), src.read(2), src.read(1)))  # R,G,B\n",
    "    # Normalize for display\n",
    "    rgb = (rgb - rgb.min()) / (rgb.max() - rgb.min())\n",
    "    \n",
    "    # Get metadata for plotting\n",
    "    extent = [src.bounds.left, src.bounds.right, src.bounds.bottom, src.bounds.top]\n",
    "\n",
    "# Load indices\n",
    "with rasterio.open(\"colab_results/indices.tif\") as src:\n",
    "    ndvi = src.read(1)  # Assuming NDVI is the first band\n",
    "    ndmi = src.read(2) if src.count > 1 else None  # NDMI if available\n",
    "    \n",
    "# Load detection results\n",
    "with rasterio.open(\"colab_results/drainage.tif\") as src:\n",
    "    detection = src.read(1)\n",
    "\n",
    "# Load vectorized results\n",
    "try:\n",
    "    drainage_lines = gpd.read_file(\"colab_results/drainage_lines.shp\")\n",
    "    has_vectors = True\n",
    "except Exception as e:\n",
    "    has_vectors = False\n",
    "    print(f\"No vector results found or error loading them: {e}\")\n",
    "\n",
    "# Create visualization\n",
    "plt.figure(figsize=(20, 15))\n",
    "\n",
    "# Original RGB\n",
    "plt.subplot(221)\n",
    "plt.imshow(rgb)\n",
    "plt.title(\"Original RGB Image\")\n",
    "plt.axis('off')\n",
    "\n",
    "# NDVI\n",
    "plt.subplot(222)\n",
    "plt.imshow(ndvi, cmap='RdYlGn')\n",
    "plt.title(\"NDVI\")\n",
    "plt.colorbar(shrink=0.5)\n",
    "plt.axis('off')\n",
    "\n",
    "# Detection result\n",
    "plt.subplot(223)\n",
    "plt.imshow(rgb)\n",
    "if has_vectors:\n",
    "    drainage_lines.plot(ax=plt.gca(), color='red', linewidth=1)\n",
    "plt.title(\"Drainage Lines Overlay\")\n",
    "plt.axis('off')\n",
    "\n",
    "# Detection probability\n",
    "plt.subplot(224)\n",
    "plt.imshow(detection, cmap='jet')\n",
    "plt.title(\"Drainage Detection Probability\")\n",
    "plt.colorbar(shrink=0.5)\n",
    "plt.axis('off')\n",
    "\n",
    "plt.tight_layout()\n",
    "plt.show()"
   ]
  },
  {
   "cell_type": "markdown",
   "metadata": {},
   "source": [
    "## Step 10: Download Results\n",
    "\n",
    "Download the results files for use in ArcGIS or QGIS."
   ]
  },
  {
   "cell_type": "code",
   "execution_count": null,
   "metadata": {},
   "outputs": [],
   "source": [
    "print(\"\\nDownload the results files:\")\n",
    "files.download(\"colab_results/drainage_lines.shp\")\n",
    "files.download(\"colab_results/drainage_lines.shx\")\n",
    "files.download(\"colab_results/drainage_lines.dbf\")\n",
    "files.download(\"colab_results/drainage_lines.prj\")\n",
    "files.download(\"colab_results/drainage.tif\")\n",
    "files.download(\"colab_results/indices.tif\")\n",
    "\n",
    "print(\"\\nWorkflow complete! You can now load these files in ArcGIS or QGIS.\")"
   ]
  },
  {
   "cell_type": "markdown",
   "metadata": {},
   "source": [
    "## Additional Options\n",
    "\n",
    "### Adjusting Detection Threshold\n",
    "\n",
    "If the initial results don't show enough drainage features or show too many false positives, you can adjust the threshold:"
   ]
  },
  {
   "cell_type": "code",
   "execution_count": null,
   "metadata": {},
   "outputs": [],
   "source": [
    "# Example with lower threshold (more sensitive)\n",
    "# !python main.py detect --imagery {imagery_filename} --indices colab_results/indices.tif --output colab_results/drainage_sensitive.tif --model semi --threshold 0.3\n",
    "\n",
    "# Example with higher threshold (less sensitive)\n",
    "# !python main.py detect --imagery {imagery_filename} --indices colab_results/indices.tif --output colab_results/drainage_specific.tif --model semi --threshold 0.7"
   ]
  },
  {
   "cell_type": "markdown",
   "metadata": {},
   "source": [
    "### Using Different Models\n",
    "\n",
    "You can also try different models:"
   ]
  },
  {
   "cell_type": "code",
   "execution_count": null,
   "metadata": {},
   "outputs": [],
   "source": [
    "# Example with CNN model\n",
    "# !python main.py detect --imagery {imagery_filename} --indices colab_results/indices.tif --output colab_results/drainage_cnn.tif --model cnn\n",
    "\n",
    "# Example with ensemble model\n",
    "# !python main.py detect --imagery {imagery_filename} --indices colab_results/indices.tif --output colab_results/drainage_ensemble.tif --model ensemble"
   ]
  }
 ],
 "metadata": {
  "kernelspec": {
   "display_name": "Python 3",
   "language": "python",
   "name": "python3"
  },
  "language_info": {
   "codemirror_mode": {
    "name": "ipython",
    "version": 3
   },
   "file_extension": ".py",
   "mimetype": "text/x-python",
   "name": "python",
   "nbconvert_exporter": "python",
   "pygments_lexer": "ipython3",
   "version": "3.9.0"
  }
 },
 "nbformat": 4,
 "nbformat_minor": 4
}
