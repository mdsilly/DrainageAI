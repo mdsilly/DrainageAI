{
 "cells": [
  {
   "cell_type": "markdown",
   "metadata": {},
   "source": [
    "# DrainageAI Demo - Google Colab Integration with BYOL (Unlabeled Data Focus)\n",
    "\n",
    "This notebook demonstrates the DrainageAI workflow using Google Colab's GPU acceleration, focusing on the BYOL approach with unlabeled data only. It includes support for grayscale (single-channel) images and does not require MCP dependencies."
   ]
  },
  {
   "cell_type": "markdown",
   "metadata": {},
   "source": [
    "## Step 1: Check GPU Availability"
   ]
  },
  {
   "cell_type": "code",
   "execution_count": null,
   "metadata": {},
   "outputs": [],
   "source": [
    "import torch\n",
    "\n",
    "print(f\"GPU available: {torch.cuda.is_available()}\")\n",
    "\n",
    "if torch.cuda.is_available():\n",
    "    print(f\"GPU name: {torch.cuda.get_device_name(0)}\")\n",
    "else:\n",
    "    print(\"WARNING: No GPU detected. Processing will be slow.\")"
   ]
  },
  {
   "cell_type": "markdown",
   "metadata": {},
   "source": [
    "## Step 2: Install Dependencies"
   ]
  },
  {
   "cell_type": "code",
   "execution_count": null,
   "metadata": {},
   "outputs": [],
   "source": [
    "!pip install rasterio geopandas scikit-image matplotlib pytorch-lightning torch-geometric"
   ]
  },
  {
   "cell_type": "markdown",
   "metadata": {},
   "source": [
    "## Step 3: Clone the DrainageAI Repository"
   ]
  },
  {
   "cell_type": "code",
   "execution_count": null,
   "metadata": {},
   "outputs": [],
   "source": [
    "# Clone the repository\n",
    "!git clone https://github.com/yourusername/DrainageAI.git\n",
    "\n",
    "%cd DrainageAI"
   ]
  },
  {
   "cell_type": "markdown",
   "metadata": {},
   "source": [
    "## Step 4: Create MCP-Free Main Script\n",
    "\n",
    "To avoid dependency issues with the Model Context Protocol (MCP), we'll create a simplified version of the main script that doesn't require MCP."
   ]
  },
  {
   "cell_type": "code",
   "execution_count": null,
   "metadata": {},
   "outputs": [],
   "source": [
    "%%writefile main_no_mcp.py\n",
    "\"\"\"\n",
    "Simplified main script for DrainageAI without MCP dependencies.\n",
    "\"\"\"\n",
    "\n",
    "import os\n",
    "import sys\n",
    "import argparse\n",
    "import torch\n",
    "import numpy as np\n",
    "import rasterio\n",
    "import geopandas as gpd\n",
    "from pathlib import Path\n",
    "from shapely.geometry import LineString\n",
    "\n",
    "from models import EnsembleModel, CNNModel, GNNModel, SelfSupervisedModel, SemiSupervisedModel, BYOLModel, GrayscaleBYOLModel\n",
    "from preprocessing import DataLoader, ImageProcessor, GraphBuilder, Augmentation\n",
    "from preprocessing.fixmatch_augmentation import WeakAugmentation, StrongAugmentation\n",
    "\n",
    "\n",
    "def parse_args():\n",
    "    \"\"\"Parse command line arguments.\"\"\"\n",
    "    parser = argparse.ArgumentParser(description=\"DrainageAI: AI-powered drainage pipe detection\")\n",
    "    \n",
    "    # Create subparsers for different commands\n",
    "    subparsers = parser.add_subparsers(dest=\"command\", help=\"Command to run\")\n",
    "    \n",
    "    # Detect command\n",
    "    detect_parser = subparsers.add_parser(\"detect\", help=\"Detect drainage pipes in satellite imagery\")\n",
    "    detect_parser.add_argument(\"--imagery\", required=True, help=\"Path to satellite imagery file\")\n",
    "    detect_parser.add_argument(\"--elevation\", help=\"Path to elevation data file (optional)\")\n",
    "    detect_parser.add_argument(\"--indices\", help=\"Path to spectral indices file (optional)\")\n",
    "    detect_parser.add_argument(\"--sar\", help=\"Path to SAR imagery file (optional)\")\n",
    "    detect_parser.add_argument(\"--output\", required=True, help=\"Path to save detection results\")\n",
    "    detect_parser.add_argument(\"--model\", default=\"ensemble\", \n",
    "                              choices=[\"ensemble\", \"cnn\", \"gnn\", \"ssl\", \"semi\", \"byol\", \"grayscale-byol\"], \n",
    "                              help=\"Model type to use\")\n",
    "    detect_parser.add_argument(\"--weights\", help=\"Path to model weights file (optional)\")\n",
    "    detect_parser.add_argument(\"--threshold\", type=float, default=0.5, help=\"Confidence threshold for detection (0-1)\")\n",
    "    \n",
    "    # Calculate indices command\n",
    "    indices_parser = subparsers.add_parser(\"indices\", help=\"Calculate spectral indices from multispectral imagery\")\n",
    "    indices_parser.add_argument(\"--imagery\", required=True, help=\"Path to multispectral imagery file\")\n",
    "    indices_parser.add_argument(\"--output\", required=True, help=\"Path to save indices as a multi-band raster\")\n",
    "    indices_parser.add_argument(\"--indices\", default=\"ndvi,ndmi,msavi2\", help=\"Comma-separated list of indices to calculate\")\n",
    "    indices_parser.add_argument(\"--red-band\", type=int, default=3, help=\"Band number for red (default: 3)\")\n",
    "    indices_parser.add_argument(\"--nir-band\", type=int, default=4, help=\"Band number for NIR (default: 4)\")\n",
    "    indices_parser.add_argument(\"--swir-band\", type=int, default=5, help=\"Band number for SWIR (default: 5)\")\n",
    "    indices_parser.add_argument(\"--green-band\", type=int, default=2, help=\"Band number for green (default: 2)\")\n",
    "    \n",
    "    # Vectorize command\n",
    "    vectorize_parser = subparsers.add_parser(\"vectorize\", help=\"Convert raster detection results to vector format\")\n",
    "    vectorize_parser.add_argument(\"--input\", required=True, help=\"Path to raster detection results\")\n",
    "    vectorize_parser.add_argument(\"--output\", required=True, help=\"Path to save vector results\")\n",
    "    vectorize_parser.add_argument(\"--simplify\", type=float, default=1.0, help=\"Tolerance for line simplification\")\n",
    "    \n",
    "    return parser.parse_args()\n",
    "\n",
    "\n",
    "def create_model(model_type):\n",
    "    \"\"\"Create a DrainageAI model.\"\"\"\n",
    "    if model_type == \"ensemble\":\n",
    "        return EnsembleModel()\n",
    "    elif model_type == \"cnn\":\n",
    "        return CNNModel()\n",
    "    elif model_type == \"gnn\":\n",
    "        return GNNModel()\n",
    "    elif model_type == \"ssl\":\n",
    "        return SelfSupervisedModel(fine_tuned=True)\n",
    "    elif model_type == \"semi\":\n",
    "        return SemiSupervisedModel(pretrained=True)\n",
    "    elif model_type == \"byol\":\n",
    "        return BYOLModel(fine_tuned=True)\n",
    "    elif model_type == \"grayscale-byol\":\n",
    "        return GrayscaleBYOLModel(fine_tuned=True)\n",
    "    else:\n",
    "        raise ValueError(f\"Invalid model type: {model_type}\")\n",
    "\n",
    "\n",
    "def load_model(model_type, weights_path=None, with_sar=False):\n",
    "    \"\"\"Load a DrainageAI model.\"\"\"\n",
    "    # Create model with SAR support if needed\n",
    "    if model_type == \"cnn\" and with_sar:\n",
    "        model = CNNModel(with_sar=True)\n",
    "    elif model_type == \"byol\" and with_sar:\n",
    "        model = BYOLModel(with_sar=True)\n",
    "    elif model_type == \"grayscale-byol\":\n",
    "        model = GrayscaleBYOLModel(with_sar=with_sar)\n",
    "    else:\n",
    "        model = create_model(model_type)\n",
    "    \n",
    "    # Load weights if provided\n",
    "    if weights_path:\n",
    "        model.load(weights_path)\n",
    "    \n",
    "    # Set model to evaluation mode\n",
    "    model.eval()\n",
    "    \n",
    "    return model\n",
    "\n",
    "\n",
    "def main():\n",
    "    \"\"\"Main function.\"\"\"\n",
    "    # Parse command line arguments\n",
    "    args = parse_args()\n",
    "    \n",
    "    # Run command\n",
    "    if args.command == \"detect\":\n",
    "        # Import detect function to avoid circular imports\n",
    "        from models import detect\n",
    "        detect(args)\n",
    "    elif args.command == \"indices\":\n",
    "        # Import calculate_indices function to avoid circular imports\n",
    "        from preprocessing import calculate_indices\n",
    "        calculate_indices(args)\n",
    "    elif args.command == \"vectorize\":\n",
    "        # Import vectorize function to avoid circular imports\n",
    "        from preprocessing import vectorize\n",
    "        vectorize(args)\n",
    "    else:\n",
    "        print(\"Please specify a command. Use --help for more information.\")\n",
    "\n",
    "\n",
    "if __name__ == \"__main__\":\n",
    "    main()"
   ]
  },
  {
   "cell_type": "markdown",
   "metadata": {},
   "source": [
    "## Step 5: Upload Test Imagery"
   ]
  },
  {
   "cell_type": "code",
   "execution_count": null,
   "metadata": {},
   "outputs": [],
   "source": [
    "from google.colab import files\n",
    "\n",
    "print(\"Please upload your multispectral imagery file (GeoTIFF format):\")\n",
    "uploaded = files.upload()\n",
    "\n",
    "# Get the filename of the uploaded file\n",
    "imagery_filename = list(uploaded.keys())[0]\n",
    "print(f\"Uploaded file: {imagery_filename}\")"
   ]
  },
  {
   "cell_type": "markdown",
   "metadata": {},
   "source": [
    "## Step 6: Create Output Directory"
   ]
  },
  {
   "cell_type": "code",
   "execution_count": null,
   "metadata": {},
   "outputs": [],
   "source": [
    "!mkdir -p colab_results"
   ]
  },
  {
   "cell_type": "markdown",
   "metadata": {},
   "source": [
    "## Step 7: Check Image Channels"
   ]
  },
  {
   "cell_type": "code",
   "execution_count": null,
   "metadata": {},
   "outputs": [],
   "source": [
    "import rasterio\n",
    "\n",
    "# Check the number of channels in the uploaded image\n",
    "with rasterio.open(imagery_filename) as src:\n",
    "    num_channels = src.count\n",
    "    print(f\"Image has {num_channels} channel(s)\")\n",
    "    \n",
    "# Determine which model to use based on the number of channels\n",
    "if num_channels < 3:\n",
    "    print(\"This is a grayscale or 2-channel image. We'll use the grayscale-compatible model.\")\n",
    "    recommended_model = \"grayscale-byol\"\n",
    "else:\n",
    "    print(\"This is a multi-channel image. We'll use the standard model.\")\n",
    "    recommended_model = \"byol\""
   ]
  },
  {
   "cell_type": "markdown",
   "metadata": {},
   "source": [
    "## Step 8: Calculate Spectral Indices"
   ]
  },
  {
   "cell_type": "code",
   "execution_count": null,
   "metadata": {},
   "outputs": [],
   "source": [
    "print(\"\\n=== Step 1: Calculate Spectral Indices ===\\n\")\n",
    "\n",
    "!python main_no_mcp.py indices --imagery {imagery_filename} --output colab_results/indices.tif --indices ndvi,ndmi,msavi2"
   ]
  },
  {
   "cell_type": "markdown",
   "metadata": {},
   "source": [
    "## Step 9: Run Drainage Detection with Grayscale Support"
   ]
  },
  {
   "cell_type": "code",
   "execution_count": null,
   "metadata": {},
   "outputs": [],
   "source": [
    "print(\"\\n=== Step 2: Detect Drainage Pipes ===\\n\")\n",
    "\n",
    "# Choose one of the following model options based on the image type:\n",
    "\n",
    "# For grayscale images (1 channel) or 2-channel images\n",
    "if num_channels < 3:\n",
    "    print(\"Using grayscale-compatible BYOL model...\")\n",
    "    !python main_no_mcp.py detect --imagery {imagery_filename} --indices colab_results/indices.tif --output colab_results/drainage_grayscale_byol.tif --model grayscale-byol\n",
    "# For RGB images (3+ channels)\n",
    "else:\n",
    "    print(\"Using standard BYOL model...\")\n",
    "    !python main_no_mcp.py detect --imagery {imagery_filename} --indices colab_results/indices.tif --output colab_results/drainage_byol.tif --model byol"
   ]
  },
  {
   "cell_type": "markdown",
   "metadata": {},
   "source": [
    "## Step 10: Vectorize Results"
   ]
  },
  {
   "cell_type": "code",
   "execution_count": null,
   "metadata": {},
   "outputs": [],
   "source": [
    "print(\"\\n=== Step 3: Vectorize Results ===\\n\")\n",
    "\n",
    "# Determine which detection result to use based on the model used\n",
    "if num_channels < 3:\n",
    "    detection_file = \"colab_results/drainage_grayscale_byol.tif\"\n",
    "else:\n",
    "    detection_file = \"colab_results/drainage_byol.tif\"\n",
    "\n",
    "!python main_no_mcp.py vectorize --input {detection_file} --output colab_results/drainage_lines.shp"
   ]
  },
  {
   "cell_type": "markdown",
   "metadata": {},
   "source": [
    "## Using the Grayscale-Compatible BYOL Model"
   ]
  },
  {
   "cell_type": "code",
   "execution_count": null,
   "metadata": {},
   "outputs": [],
   "source": [
    "# Create directories for unlabeled data\n",
    "!mkdir -p data/unlabeled/imagery\n",
    "\n",
    "# Upload unlabeled imagery (you can upload multiple files)\n",
    "print(\"Please upload unlabeled imagery files (GeoTIFF format):\")\n",
    "uploaded_unlabeled = files.upload()\n",
    "\n",
    "# Save uploaded files to the unlabeled directory\n",
    "for filename in uploaded_unlabeled.keys():\n",
    "    with open(f\"data/unlabeled/imagery/{filename}\", 'wb') as f:\n",
    "        f.write(uploaded_unlabeled[filename])\n",
    "    print(f\"Saved {filename} to data/unlabeled/imagery/\")"
   ]
  },
  {
   "cell_type": "markdown",
   "metadata": {},
   "source": [
    "### Check Image Channels"
   ]
  },
  {
   "cell_type": "code",
   "execution_count": null,
   "metadata": {},
   "outputs": [],
   "source": [
    "import os\n",
    "\n",
    "# Check all images in the unlabeled directory\n",
    "has_grayscale = False\n",
    "for filename in os.listdir('data/unlabeled/imagery'):\n",
    "    if filename.endswith(('.tif', '.tiff')):\n",
    "        input_path = os.path.join('data/unlabeled/imagery', filename)\n",
    "        \n",
    "        # Check number of channels\n",
    "        with rasterio.open(input_path) as src:\n",
    "            num_channels = src.count\n",
    "            print(f\"Image {filename} has {num_channels} channel(s)\")\n",
    "            \n",
    "            if num_channels < 3:\n",
    "                has_grayscale = True\n",
    "\n",
    "print(f\"\\nDetected grayscale images: {has_grayscale}\")"
   ]
  },
  {
   "cell_type": "markdown",
   "metadata": {},
   "source": [
    "### Run Grayscale BYOL Example"
   ]
  },
  {
   "cell_type": "code",
   "execution_count": null,
   "metadata": {},
   "outputs": [],
   "source": [
    "print(\"\\n=== Using Grayscale-Compatible BYOL Model ===\\n\")\n",
    "\n",
    "# Run the grayscale BYOL example\n",
    "!python examples/grayscale_byol_example.py \\\n",
    "    --optical-dir data/unlabeled/imagery \\\n",
    "    --output-dir colab_results \\\n",
    "    --epochs 20 \\\n",
    "    --test-image {imagery_filename}"
   ]
  }
 ],
 "metadata": {
  "kernelspec": {
   "display_name": "Python 3",
   "language": "python",
   "name": "python3"
  },
  "language_info": {
   "codemirror_mode": {
    "name": "ipython",
    "version": 3
   },
   "file_extension": ".py",
   "mimetype": "text/x-python",
   "name": "python",
   "nbconvert_exporter": "python",
   "pygments_lexer": "ipython3",
   "version": "3.8.10"
  }
 },
 "nbformat": 4,
 "nbformat_minor": 4
}
